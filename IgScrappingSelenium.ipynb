{
 "cells": [
  {
   "cell_type": "code",
   "execution_count": 20,
   "id": "4e70f9e5",
   "metadata": {},
   "outputs": [
    {
     "name": "stderr",
     "output_type": "stream",
     "text": [
      "C:\\Users\\hp\\AppData\\Local\\Temp\\ipykernel_12028\\2758449708.py:9: DeprecationWarning: executable_path has been deprecated, please pass in a Service object\n",
      "  driver = webdriver.Chrome(\"chromedriver_win32/chromedriver.exe\")\n"
     ]
    },
    {
     "ename": "NoSuchElementException",
     "evalue": "Message: no such element: Unable to locate element: {\"method\":\"css selector\",\"selector\":\".xnz67gz x14yjl9h xudhj91 x18nykt9 xww2gxu x9f619 x1lliihq x2lah0s x6ikm8r x10wlt62 x1n2onr6 x1ykvv32 xougopr x159fomc xnp5s1o x194ut8o x1vzenxt xd7ygy7 xt298gk x1xrz1ek x1s928wv x1n449xj x2q1x1w x1j6awrg x162n7g1 x1m1drc7\"}\n  (Session info: chrome=114.0.5735.134)\nStacktrace:\nBacktrace:\n\tGetHandleVerifier [0x010CA813+48355]\n\t(No symbol) [0x0105C4B1]\n\t(No symbol) [0x00F65358]\n\t(No symbol) [0x00F909A5]\n\t(No symbol) [0x00F90B3B]\n\t(No symbol) [0x00FBE232]\n\t(No symbol) [0x00FAA784]\n\t(No symbol) [0x00FBC922]\n\t(No symbol) [0x00FAA536]\n\t(No symbol) [0x00F882DC]\n\t(No symbol) [0x00F893DD]\n\tGetHandleVerifier [0x0132AABD+2539405]\n\tGetHandleVerifier [0x0136A78F+2800735]\n\tGetHandleVerifier [0x0136456C+2775612]\n\tGetHandleVerifier [0x011551E0+616112]\n\t(No symbol) [0x01065F8C]\n\t(No symbol) [0x01062328]\n\t(No symbol) [0x0106240B]\n\t(No symbol) [0x01054FF7]\n\tBaseThreadInitThunk [0x762400C9+25]\n\tRtlGetAppContainerNamedObjectPath [0x77407B4E+286]\n\tRtlGetAppContainerNamedObjectPath [0x77407B1E+238]\n",
     "output_type": "error",
     "traceback": [
      "\u001b[1;31m---------------------------------------------------------------------------\u001b[0m",
      "\u001b[1;31mNoSuchElementException\u001b[0m                    Traceback (most recent call last)",
      "\u001b[1;32m~\\AppData\\Local\\Temp\\ipykernel_12028\\2758449708.py\u001b[0m in \u001b[0;36m<module>\u001b[1;34m\u001b[0m\n\u001b[0;32m     25\u001b[0m     \u001b[1;31m#click on the profile button\u001b[0m\u001b[1;33m\u001b[0m\u001b[1;33m\u001b[0m\u001b[0m\n\u001b[0;32m     26\u001b[0m     \u001b[0mprofile_button\u001b[0m \u001b[1;33m=\u001b[0m \u001b[1;34m\"xnz67gz x14yjl9h xudhj91 x18nykt9 xww2gxu x9f619 x1lliihq x2lah0s x6ikm8r x10wlt62 x1n2onr6 x1ykvv32 xougopr x159fomc xnp5s1o x194ut8o x1vzenxt xd7ygy7 xt298gk x1xrz1ek x1s928wv x1n449xj x2q1x1w x1j6awrg x162n7g1 x1m1drc7\"\u001b[0m\u001b[1;33m\u001b[0m\u001b[1;33m\u001b[0m\u001b[0m\n\u001b[1;32m---> 27\u001b[1;33m     \u001b[0mprofile_elements\u001b[0m \u001b[1;33m=\u001b[0m \u001b[0mdriver\u001b[0m\u001b[1;33m.\u001b[0m\u001b[0mfind_element\u001b[0m\u001b[1;33m(\u001b[0m\u001b[0mBy\u001b[0m\u001b[1;33m.\u001b[0m\u001b[0mCLASS_NAME\u001b[0m\u001b[1;33m,\u001b[0m \u001b[0mprofile_button\u001b[0m\u001b[1;33m)\u001b[0m\u001b[1;33m\u001b[0m\u001b[1;33m\u001b[0m\u001b[0m\n\u001b[0m\u001b[0;32m     28\u001b[0m     \u001b[0mprofile_elements\u001b[0m\u001b[1;33m.\u001b[0m\u001b[0mclick\u001b[0m\u001b[1;33m(\u001b[0m\u001b[1;33m)\u001b[0m\u001b[1;33m\u001b[0m\u001b[1;33m\u001b[0m\u001b[0m\n\u001b[0;32m     29\u001b[0m     \u001b[0mtime\u001b[0m\u001b[1;33m(\u001b[0m\u001b[1;36m20\u001b[0m\u001b[1;33m)\u001b[0m\u001b[1;33m\u001b[0m\u001b[1;33m\u001b[0m\u001b[0m\n",
      "\u001b[1;32m~\\anaconda3\\lib\\site-packages\\selenium\\webdriver\\remote\\webdriver.py\u001b[0m in \u001b[0;36mfind_element\u001b[1;34m(self, by, value)\u001b[0m\n\u001b[0;32m    829\u001b[0m             \u001b[0mvalue\u001b[0m \u001b[1;33m=\u001b[0m \u001b[1;34mf'[name=\"{value}\"]'\u001b[0m\u001b[1;33m\u001b[0m\u001b[1;33m\u001b[0m\u001b[0m\n\u001b[0;32m    830\u001b[0m \u001b[1;33m\u001b[0m\u001b[0m\n\u001b[1;32m--> 831\u001b[1;33m         \u001b[1;32mreturn\u001b[0m \u001b[0mself\u001b[0m\u001b[1;33m.\u001b[0m\u001b[0mexecute\u001b[0m\u001b[1;33m(\u001b[0m\u001b[0mCommand\u001b[0m\u001b[1;33m.\u001b[0m\u001b[0mFIND_ELEMENT\u001b[0m\u001b[1;33m,\u001b[0m \u001b[1;33m{\u001b[0m\u001b[1;34m\"using\"\u001b[0m\u001b[1;33m:\u001b[0m \u001b[0mby\u001b[0m\u001b[1;33m,\u001b[0m \u001b[1;34m\"value\"\u001b[0m\u001b[1;33m:\u001b[0m \u001b[0mvalue\u001b[0m\u001b[1;33m}\u001b[0m\u001b[1;33m)\u001b[0m\u001b[1;33m[\u001b[0m\u001b[1;34m\"value\"\u001b[0m\u001b[1;33m]\u001b[0m\u001b[1;33m\u001b[0m\u001b[1;33m\u001b[0m\u001b[0m\n\u001b[0m\u001b[0;32m    832\u001b[0m \u001b[1;33m\u001b[0m\u001b[0m\n\u001b[0;32m    833\u001b[0m     \u001b[1;32mdef\u001b[0m \u001b[0mfind_elements\u001b[0m\u001b[1;33m(\u001b[0m\u001b[0mself\u001b[0m\u001b[1;33m,\u001b[0m \u001b[0mby\u001b[0m\u001b[1;33m=\u001b[0m\u001b[0mBy\u001b[0m\u001b[1;33m.\u001b[0m\u001b[0mID\u001b[0m\u001b[1;33m,\u001b[0m \u001b[0mvalue\u001b[0m\u001b[1;33m:\u001b[0m \u001b[0mOptional\u001b[0m\u001b[1;33m[\u001b[0m\u001b[0mstr\u001b[0m\u001b[1;33m]\u001b[0m \u001b[1;33m=\u001b[0m \u001b[1;32mNone\u001b[0m\u001b[1;33m)\u001b[0m \u001b[1;33m->\u001b[0m \u001b[0mList\u001b[0m\u001b[1;33m[\u001b[0m\u001b[0mWebElement\u001b[0m\u001b[1;33m]\u001b[0m\u001b[1;33m:\u001b[0m\u001b[1;33m\u001b[0m\u001b[1;33m\u001b[0m\u001b[0m\n",
      "\u001b[1;32m~\\anaconda3\\lib\\site-packages\\selenium\\webdriver\\remote\\webdriver.py\u001b[0m in \u001b[0;36mexecute\u001b[1;34m(self, driver_command, params)\u001b[0m\n\u001b[0;32m    438\u001b[0m         \u001b[0mresponse\u001b[0m \u001b[1;33m=\u001b[0m \u001b[0mself\u001b[0m\u001b[1;33m.\u001b[0m\u001b[0mcommand_executor\u001b[0m\u001b[1;33m.\u001b[0m\u001b[0mexecute\u001b[0m\u001b[1;33m(\u001b[0m\u001b[0mdriver_command\u001b[0m\u001b[1;33m,\u001b[0m \u001b[0mparams\u001b[0m\u001b[1;33m)\u001b[0m\u001b[1;33m\u001b[0m\u001b[1;33m\u001b[0m\u001b[0m\n\u001b[0;32m    439\u001b[0m         \u001b[1;32mif\u001b[0m \u001b[0mresponse\u001b[0m\u001b[1;33m:\u001b[0m\u001b[1;33m\u001b[0m\u001b[1;33m\u001b[0m\u001b[0m\n\u001b[1;32m--> 440\u001b[1;33m             \u001b[0mself\u001b[0m\u001b[1;33m.\u001b[0m\u001b[0merror_handler\u001b[0m\u001b[1;33m.\u001b[0m\u001b[0mcheck_response\u001b[0m\u001b[1;33m(\u001b[0m\u001b[0mresponse\u001b[0m\u001b[1;33m)\u001b[0m\u001b[1;33m\u001b[0m\u001b[1;33m\u001b[0m\u001b[0m\n\u001b[0m\u001b[0;32m    441\u001b[0m             \u001b[0mresponse\u001b[0m\u001b[1;33m[\u001b[0m\u001b[1;34m\"value\"\u001b[0m\u001b[1;33m]\u001b[0m \u001b[1;33m=\u001b[0m \u001b[0mself\u001b[0m\u001b[1;33m.\u001b[0m\u001b[0m_unwrap_value\u001b[0m\u001b[1;33m(\u001b[0m\u001b[0mresponse\u001b[0m\u001b[1;33m.\u001b[0m\u001b[0mget\u001b[0m\u001b[1;33m(\u001b[0m\u001b[1;34m\"value\"\u001b[0m\u001b[1;33m,\u001b[0m \u001b[1;32mNone\u001b[0m\u001b[1;33m)\u001b[0m\u001b[1;33m)\u001b[0m\u001b[1;33m\u001b[0m\u001b[1;33m\u001b[0m\u001b[0m\n\u001b[0;32m    442\u001b[0m             \u001b[1;32mreturn\u001b[0m \u001b[0mresponse\u001b[0m\u001b[1;33m\u001b[0m\u001b[1;33m\u001b[0m\u001b[0m\n",
      "\u001b[1;32m~\\anaconda3\\lib\\site-packages\\selenium\\webdriver\\remote\\errorhandler.py\u001b[0m in \u001b[0;36mcheck_response\u001b[1;34m(self, response)\u001b[0m\n\u001b[0;32m    243\u001b[0m                 \u001b[0malert_text\u001b[0m \u001b[1;33m=\u001b[0m \u001b[0mvalue\u001b[0m\u001b[1;33m[\u001b[0m\u001b[1;34m\"alert\"\u001b[0m\u001b[1;33m]\u001b[0m\u001b[1;33m.\u001b[0m\u001b[0mget\u001b[0m\u001b[1;33m(\u001b[0m\u001b[1;34m\"text\"\u001b[0m\u001b[1;33m)\u001b[0m\u001b[1;33m\u001b[0m\u001b[1;33m\u001b[0m\u001b[0m\n\u001b[0;32m    244\u001b[0m             \u001b[1;32mraise\u001b[0m \u001b[0mexception_class\u001b[0m\u001b[1;33m(\u001b[0m\u001b[0mmessage\u001b[0m\u001b[1;33m,\u001b[0m \u001b[0mscreen\u001b[0m\u001b[1;33m,\u001b[0m \u001b[0mstacktrace\u001b[0m\u001b[1;33m,\u001b[0m \u001b[0malert_text\u001b[0m\u001b[1;33m)\u001b[0m  \u001b[1;31m# type: ignore[call-arg]  # mypy is not smart enough here\u001b[0m\u001b[1;33m\u001b[0m\u001b[1;33m\u001b[0m\u001b[0m\n\u001b[1;32m--> 245\u001b[1;33m         \u001b[1;32mraise\u001b[0m \u001b[0mexception_class\u001b[0m\u001b[1;33m(\u001b[0m\u001b[0mmessage\u001b[0m\u001b[1;33m,\u001b[0m \u001b[0mscreen\u001b[0m\u001b[1;33m,\u001b[0m \u001b[0mstacktrace\u001b[0m\u001b[1;33m)\u001b[0m\u001b[1;33m\u001b[0m\u001b[1;33m\u001b[0m\u001b[0m\n\u001b[0m",
      "\u001b[1;31mNoSuchElementException\u001b[0m: Message: no such element: Unable to locate element: {\"method\":\"css selector\",\"selector\":\".xnz67gz x14yjl9h xudhj91 x18nykt9 xww2gxu x9f619 x1lliihq x2lah0s x6ikm8r x10wlt62 x1n2onr6 x1ykvv32 xougopr x159fomc xnp5s1o x194ut8o x1vzenxt xd7ygy7 xt298gk x1xrz1ek x1s928wv x1n449xj x2q1x1w x1j6awrg x162n7g1 x1m1drc7\"}\n  (Session info: chrome=114.0.5735.134)\nStacktrace:\nBacktrace:\n\tGetHandleVerifier [0x010CA813+48355]\n\t(No symbol) [0x0105C4B1]\n\t(No symbol) [0x00F65358]\n\t(No symbol) [0x00F909A5]\n\t(No symbol) [0x00F90B3B]\n\t(No symbol) [0x00FBE232]\n\t(No symbol) [0x00FAA784]\n\t(No symbol) [0x00FBC922]\n\t(No symbol) [0x00FAA536]\n\t(No symbol) [0x00F882DC]\n\t(No symbol) [0x00F893DD]\n\tGetHandleVerifier [0x0132AABD+2539405]\n\tGetHandleVerifier [0x0136A78F+2800735]\n\tGetHandleVerifier [0x0136456C+2775612]\n\tGetHandleVerifier [0x011551E0+616112]\n\t(No symbol) [0x01065F8C]\n\t(No symbol) [0x01062328]\n\t(No symbol) [0x0106240B]\n\t(No symbol) [0x01054FF7]\n\tBaseThreadInitThunk [0x762400C9+25]\n\tRtlGetAppContainerNamedObjectPath [0x77407B4E+286]\n\tRtlGetAppContainerNamedObjectPath [0x77407B1E+238]\n"
     ]
    }
   ],
   "source": [
    "import requests\n",
    "from bs4 import BeautifulSoup\n",
    "from selenium import webdriver\n",
    "from selenium.webdriver.common.by import By\n",
    "import time\n",
    "\n",
    "# Create a requests session\n",
    "session = requests.Session()\n",
    "driver = webdriver.Chrome(\"chromedriver_win32/chromedriver.exe\")\n",
    "# Login to Instagram\n",
    "url = \"https://www.instagram.com/accounts/login/\"\n",
    "data = {\n",
    "    \"username\": \"ton.ylex\",\n",
    "    \"password\": \"g38018816N\",\n",
    "}\n",
    "response = requests.post(url, data=data)\n",
    "#print(response)\n",
    "\n",
    "driver.get(url)\n",
    "html = driver.page_source\n",
    "# print(html)\n",
    "\n",
    "# Check if the login was successful\n",
    "if response.status_code == 200:\n",
    "    #click on the profile button\n",
    "    profile_button = \"xnz67gz x14yjl9h xudhj91 x18nykt9 xww2gxu x9f619 x1lliihq x2lah0s x6ikm8r x10wlt62 x1n2onr6 x1ykvv32 xougopr x159fomc xnp5s1o x194ut8o x1vzenxt xd7ygy7 xt298gk x1xrz1ek x1s928wv x1n449xj x2q1x1w x1j6awrg x162n7g1 x1m1drc7\"\n",
    "    profile_elements = driver.find_element(By.CLASS_NAME, profile_button)\n",
    "    profile_elements.click()\n",
    "    time(20)\n",
    "    if profile_elements.click() == True:\n",
    "    \n",
    "        #click on the followers button\n",
    "        followers_button = \"x9f619 xxk0z11 xii2z7h x11xpdln x19c4wfv xvy4d1p\"\n",
    "        followers_elements = driver.find_element(By.CLASS_NAME, followers_button)\n",
    "        followers_elements.click()\n",
    "        time(20)\n",
    "        if followers_elements.click() == True:\n",
    "\n",
    "            #parse the html to usernames class   \n",
    "            followers_class_name = \"x9f619 xjbqb8w x1rg5ohu x168nmei x13lgxp2 x5pf9jr xo71vjh x1n2onr6 x1plvlek xryxfnj x1c4vz4f x2lah0s x1q0g3np xqjyukv x6s0dn4 x1oa3qoh x1nhvcw1\"\n",
    "            elements = driver.find_elements(By.CLASS_NAME, class_name)\n",
    "            if elements == True:\n",
    "\n",
    "                #loop through all of the text in that class\n",
    "                #add the usernames to a list\n",
    "                attributes = []\n",
    "                for element in elements:\n",
    "                    for attribute in element.attrib:\n",
    "                        attributes.append((attribute, element.get_attribute(attribute)))\n",
    "                print(attributes)\n",
    "            else:\n",
    "                print(\"Failed to access followers\")\n",
    "        else:\n",
    "            print(\"Unable to click followers\")\n",
    "    else:\n",
    "        print(\"Failed to click profile\")\n",
    "else:\n",
    "    print(\"Unable to login\")\n",
    "    "
   ]
  },
  {
   "cell_type": "code",
   "execution_count": 7,
   "id": "a331a39d",
   "metadata": {},
   "outputs": [
    {
     "name": "stdout",
     "output_type": "stream",
     "text": [
      "[]\n"
     ]
    }
   ],
   "source": [
    "import requests\n",
    "from bs4 import BeautifulSoup\n",
    "from selenium import webdriver\n",
    "from selenium.webdriver.common.by import By\n",
    "import time\n",
    "\n",
    "# Create a requests session\n",
    "session = requests.Session()\n",
    "driver = webdriver.Chrome()\n",
    "\n",
    "# Login to Instagram\n",
    "url = \"https://www.instagram.com/accounts/login/\"\n",
    "data = {\n",
    "    \"username\": \"ton.ylex\",\n",
    "    \"password\": \"g38018816N\",\n",
    "}\n",
    "response = requests.post(url, data=data)\n",
    "#print(response)\n",
    "\n",
    "# Check if the login was successful\n",
    "if response.status_code == 200:\n",
    "    # Get the HTML of the profile page\n",
    "    #soup = BeautifulSoup(response.content, \"html.parser\")\n",
    "        \n",
    "    # Get the list of people who have followed you\n",
    "    followers_url = \"https://www.instagram.com/ton.ylex/followers/\"\n",
    "    followers_response = session.get(followers_url)\n",
    "    #print(followers_response)\n",
    "    \n",
    "    #driver.find_elements(By.CLASS_NAME, class_name)    \n",
    "    class_name = \"x9f619 xjbqb8w x1rg5ohu x168nmei x13lgxp2 x5pf9jr xo71vjh x1n2onr6 x1plvlek xryxfnj x1c4vz4f x2lah0s x1q0g3np xqjyukv x6s0dn4 x1oa3qoh x1nhvcw1\"\n",
    "    #class_name = \" \"\n",
    "    elements = driver.find_elements(By.CLASS_NAME, class_name)\n",
    "    print(elements)\n",
    "    attributes = []\n",
    "    for element in elements:\n",
    "        for attribute in element.attrib:\n",
    "            attributes.append((attribute, element.get_attribute(attribute)))\n",
    "            print(attributes)\n",
    "    "
   ]
  },
  {
   "cell_type": "code",
   "execution_count": 2,
   "id": "43f442fd",
   "metadata": {},
   "outputs": [
    {
     "name": "stdout",
     "output_type": "stream",
     "text": [
      "<Response [200]>\n"
     ]
    }
   ],
   "source": [
    "# Login to Instagram\n",
    "url = \"https://www.instagram.com/accounts/login/\"\n",
    "data = {\n",
    "    \"username\": \"ton.ylex\",\n",
    "    \"password\": \"g38018816N\",\n",
    "}\n",
    "response = requests.post(url, data=data)\n",
    "print(response)"
   ]
  },
  {
   "cell_type": "code",
   "execution_count": 3,
   "id": "07d7ad66",
   "metadata": {},
   "outputs": [
    {
     "name": "stdout",
     "output_type": "stream",
     "text": [
      "<Response [200]>\n"
     ]
    }
   ],
   "source": [
    "\n",
    "# Check if the login was successful\n",
    "if response.status_code == 200:\n",
    "    # Get the HTML of the profile page\n",
    "    soup = BeautifulSoup(response.content, \"html.parser\")\n",
    "        \n",
    "    # Get the list of people who have followed you\n",
    "    followers_url = \"https://www.instagram.com/ton.ylex/followers/\"\n",
    "    followers_response = session.get(followers_url)\n",
    "    print(followers_response)\n",
    "    \n",
    "    #driver.find_elements(By.CLASS_NAME, class_name)    \n",
    "    class_name = \"x9f619 xjbqb8w x1rg5ohu x168nmei x13lgxp2 x5pf9jr xo71vjh x1n2onr6 x1plvlek xryxfnj x1c4vz4f x2lah0s x1q0g3np xqjyukv x6s0dn4 x1oa3qoh x1nhvcw1\"\n",
    "    elements = driver.find_elements(By.CLASS_NAME, class_name)\n",
    "    attributes = []\n",
    "    for element in elements:\n",
    "        for attribute in element.attrib:\n",
    "            attributes.append((attribute, element.get_attribute(attribute)))\n",
    "        print(attributes)\n",
    "    "
   ]
  },
  {
   "cell_type": "code",
   "execution_count": 1,
   "id": "27fa6de5",
   "metadata": {},
   "outputs": [
    {
     "ename": "NameError",
     "evalue": "name 'webdriver' is not defined",
     "output_type": "error",
     "traceback": [
      "\u001b[1;31m---------------------------------------------------------------------------\u001b[0m",
      "\u001b[1;31mNameError\u001b[0m                                 Traceback (most recent call last)",
      "\u001b[1;32m~\\AppData\\Local\\Temp\\ipykernel_9036\\940000733.py\u001b[0m in \u001b[0;36m<module>\u001b[1;34m\u001b[0m\n\u001b[0;32m      1\u001b[0m \u001b[1;31m# Create a Selenium WebDriver object.\u001b[0m\u001b[1;33m\u001b[0m\u001b[1;33m\u001b[0m\u001b[0m\n\u001b[1;32m----> 2\u001b[1;33m \u001b[0mdriver\u001b[0m \u001b[1;33m=\u001b[0m \u001b[0mwebdriver\u001b[0m\u001b[1;33m.\u001b[0m\u001b[0mChrome\u001b[0m\u001b[1;33m(\u001b[0m\u001b[1;33m)\u001b[0m\u001b[1;33m\u001b[0m\u001b[1;33m\u001b[0m\u001b[0m\n\u001b[0m\u001b[0;32m      3\u001b[0m \u001b[1;33m\u001b[0m\u001b[0m\n\u001b[0;32m      4\u001b[0m \u001b[1;31m# Get your Instagram username and password\u001b[0m\u001b[1;33m\u001b[0m\u001b[1;33m\u001b[0m\u001b[0m\n\u001b[0;32m      5\u001b[0m \u001b[0musername\u001b[0m \u001b[1;33m=\u001b[0m \u001b[1;34m\"ton.ylex\"\u001b[0m\u001b[1;33m\u001b[0m\u001b[1;33m\u001b[0m\u001b[0m\n",
      "\u001b[1;31mNameError\u001b[0m: name 'webdriver' is not defined"
     ]
    }
   ],
   "source": [
    "# Create a Selenium WebDriver object.\n",
    "driver = webdriver.Chrome()\n",
    "\n",
    "# Get your Instagram username and password\n",
    "username = \"ton.ylex\"\n",
    "password = \"g38018816N\"\n",
    "\n",
    "# Login to Instagram.\n",
    "driver.get(\"https://www.instagram.com/accounts/login/\")\n",
    "driver.find_element_by_css_selector('a.x1i10hfl xjbqb8w x6umtig x1b1mbwd xaqea5y xav7gou x9f619 x1ypdohk xt0psk2 xe8uvvx xdj266r x11i5rnm xat24cr x1mh8g0r xexx8yu x4uap5 x18d9i69 xkhd6sd x16tdsg8 x1hl2dhg xggy1nq x1a2a7pz notranslate _a6hd')\n",
    "driver.find_element(By.NAME, \"password\").send_keys(password)\n",
    "driver.find_element(By.NAME, \"button\").click()"
   ]
  },
  {
   "cell_type": "code",
   "execution_count": null,
   "id": "0fcc2c51",
   "metadata": {},
   "outputs": [],
   "source": [
    " # Get the link to the profile page\n",
    "    # profile_url = soup.find(\"img\", {\"class\": \"xpdipgo x6umtig x1b1mbwd xaqea5y xav7gou xk390pu x5yr21d xdj266r x11i5rnm xat24cr x1mh8g0r xexx8yu x4uap5 x18d9i69 xkhd6sd x11njtxf xh8yej3\"})[\"href\"]\n",
    "\n",
    "    # Get the list of followers usernames\n",
    "    followers_usernames = []\n",
    "    #followers_click = driver.find_elements(By.CLASS_NAME, \"x9f619 xjbqb8w x1rg5ohu x168nmei x13lgxp2 x5pf9jr xo71vjh x1n2onr6 x1plvlek xryxfnj x1c4vz4f x2lah0s x1q0g3np xqjyukv x6s0dn4 x1oa3qoh x1nhvcw1\")\n",
    "\n",
    "    # followers_click.select()\n",
    "    # followers_click .click()\n",
    "    # time.sleep(2)"
   ]
  },
  {
   "cell_type": "code",
   "execution_count": null,
   "id": "d021cb00",
   "metadata": {},
   "outputs": [],
   "source": []
  },
  {
   "cell_type": "code",
   "execution_count": null,
   "id": "6ba8158f",
   "metadata": {},
   "outputs": [],
   "source": [
    "# Find the element that contains your follower count.\n",
    "follower_count_element = driver.find_element_by_css_selector(\"._ab8y._ab94._ab97._ab9f._ab9k._ab9p._abcm\")\n"
   ]
  },
  {
   "cell_type": "code",
   "execution_count": null,
   "id": "3479c2f8",
   "metadata": {},
   "outputs": [],
   "source": [
    "# Get the text of the element to get your follower count.\n",
    "follower_count = follower_count_element.text\n",
    "print(\"Your follower count is:\", follower_count)\n",
    "\n",
    "time.sleep(5)"
   ]
  },
  {
   "cell_type": "code",
   "execution_count": null,
   "id": "eea49095",
   "metadata": {},
   "outputs": [],
   "source": [
    "# Close the WebDriver object.\n",
    "driver.close()"
   ]
  }
 ],
 "metadata": {
  "kernelspec": {
   "display_name": "Python 3 (ipykernel)",
   "language": "python",
   "name": "python3"
  },
  "language_info": {
   "codemirror_mode": {
    "name": "ipython",
    "version": 3
   },
   "file_extension": ".py",
   "mimetype": "text/x-python",
   "name": "python",
   "nbconvert_exporter": "python",
   "pygments_lexer": "ipython3",
   "version": "3.9.13"
  }
 },
 "nbformat": 4,
 "nbformat_minor": 5
}
